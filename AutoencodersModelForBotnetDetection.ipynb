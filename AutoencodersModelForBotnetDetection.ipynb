{
  "nbformat": 4,
  "nbformat_minor": 0,
  "metadata": {
    "colab": {
      "provenance": []
    },
    "kernelspec": {
      "name": "python3",
      "display_name": "Python 3"
    },
    "language_info": {
      "name": "python"
    }
  },
  "cells": [
    {
      "cell_type": "code",
      "execution_count": 3,
      "metadata": {
        "colab": {
          "base_uri": "https://localhost:8080/"
        },
        "id": "yYDOjk24P7Kk",
        "outputId": "9a98a088-e444-4244-e7bd-5ca52bbafd2c"
      },
      "outputs": [
        {
          "output_type": "stream",
          "name": "stdout",
          "text": [
            "Epoch 1/100\n",
            "1729/1729 [==============================] - 11s 5ms/step - loss: 0.0142 - val_loss: 0.0027\n",
            "Epoch 2/100\n",
            "1729/1729 [==============================] - 9s 5ms/step - loss: 0.0022 - val_loss: 0.0018\n",
            "Epoch 3/100\n",
            "1729/1729 [==============================] - 7s 4ms/step - loss: 0.0017 - val_loss: 0.0016\n",
            "Epoch 4/100\n",
            "1729/1729 [==============================] - 9s 5ms/step - loss: 0.0016 - val_loss: 0.0015\n",
            "Epoch 5/100\n",
            "1729/1729 [==============================] - 9s 5ms/step - loss: 0.0010 - val_loss: 7.8149e-04\n",
            "Epoch 6/100\n",
            "1729/1729 [==============================] - 8s 4ms/step - loss: 7.6671e-04 - val_loss: 6.9972e-04\n",
            "Epoch 7/100\n",
            "1729/1729 [==============================] - 9s 5ms/step - loss: 6.6763e-04 - val_loss: 5.9109e-04\n",
            "Epoch 8/100\n",
            "1729/1729 [==============================] - 7s 4ms/step - loss: 6.1814e-04 - val_loss: 5.6856e-04\n",
            "Epoch 9/100\n",
            "1729/1729 [==============================] - 9s 5ms/step - loss: 4.7401e-04 - val_loss: 3.7427e-04\n",
            "Epoch 10/100\n",
            "1729/1729 [==============================] - 8s 4ms/step - loss: 3.7532e-04 - val_loss: 3.4836e-04\n",
            "Epoch 11/100\n",
            "1729/1729 [==============================] - 8s 5ms/step - loss: 3.4539e-04 - val_loss: 3.6581e-04\n",
            "Epoch 12/100\n",
            "1729/1729 [==============================] - 8s 5ms/step - loss: 3.2715e-04 - val_loss: 3.3970e-04\n",
            "Epoch 13/100\n",
            "1729/1729 [==============================] - 7s 4ms/step - loss: 2.9182e-04 - val_loss: 3.7835e-04\n",
            "Epoch 14/100\n",
            "1729/1729 [==============================] - 9s 5ms/step - loss: 2.4198e-04 - val_loss: 2.1858e-04\n",
            "Epoch 15/100\n",
            "1729/1729 [==============================] - 8s 4ms/step - loss: 2.2192e-04 - val_loss: 4.0420e-04\n",
            "Epoch 16/100\n",
            "1729/1729 [==============================] - 8s 5ms/step - loss: 2.2032e-04 - val_loss: 2.0198e-04\n",
            "Epoch 17/100\n",
            "1729/1729 [==============================] - 8s 4ms/step - loss: 1.9248e-04 - val_loss: 1.6985e-04\n",
            "Epoch 18/100\n",
            "1729/1729 [==============================] - 8s 4ms/step - loss: 2.0247e-04 - val_loss: 2.1723e-04\n",
            "Epoch 19/100\n",
            "1729/1729 [==============================] - 8s 4ms/step - loss: 1.8411e-04 - val_loss: 2.1608e-04\n",
            "Epoch 20/100\n",
            "1729/1729 [==============================] - 7s 4ms/step - loss: 1.9350e-04 - val_loss: 1.8179e-04\n",
            "Epoch 21/100\n",
            "1729/1729 [==============================] - 8s 5ms/step - loss: 1.7281e-04 - val_loss: 1.8458e-04\n",
            "Epoch 22/100\n",
            "1729/1729 [==============================] - 7s 4ms/step - loss: 1.6976e-04 - val_loss: 1.8677e-04\n",
            "Epoch 22: early stopping\n"
          ]
        }
      ],
      "source": [
        "import numpy as np\n",
        "import pandas as pd\n",
        "import tensorflow as tf\n",
        "from sklearn.preprocessing import MinMaxScaler\n",
        "from tensorflow.keras.models import Model, Sequential\n",
        "from tensorflow.keras.layers import Dense, Dropout\n",
        "from tensorflow.keras.callbacks import EarlyStopping\n",
        "\n",
        "# Load the dataset\n",
        "normal_traffic_dataset = pd.read_csv('/content/CTU13_Normal_Traffic.csv')\n",
        "attack_traffic_dataset = pd.read_csv('/content/CTU13_Attack_Traffic.csv')\n",
        "\n",
        "# Combine normal traffic and attack traffic dataset\n",
        "dataset = pd.concat([normal_traffic_dataset, attack_traffic_dataset], ignore_index=True)\n",
        "\n",
        "# Separate features and labels\n",
        "X = dataset.drop(columns=['Label'])\n",
        "y = dataset['Label']\n",
        "\n",
        "# Split the dataset\n",
        "from sklearn.model_selection import train_test_split\n",
        "X_train, X_test, y_train, y_test = train_test_split(X, y, test_size=0.25, random_state=42)\n",
        "\n",
        "# Normalize the data\n",
        "scaler = MinMaxScaler()\n",
        "X_train_scaled = scaler.fit_transform(X_train)\n",
        "X_test_scaled = scaler.transform(X_test)\n",
        "\n",
        "# Save the scaler for later use in deployment\n",
        "import joblib\n",
        "joblib.dump(scaler, 'scaler.pkl')\n",
        "\n",
        "# Define the Autoencoder model\n",
        "@tf.keras.saving.register_keras_serializable()\n",
        "class Autoencoder(Model):\n",
        "    def __init__(self, input_dim):\n",
        "        super(Autoencoder, self).__init__()\n",
        "        self.encoder = Sequential([\n",
        "            Dense(128, activation=\"relu\", input_shape=(input_dim,)),\n",
        "            Dense(64, activation=\"relu\"),\n",
        "            Dense(32, activation=\"relu\"),\n",
        "            Dense(16, activation=\"relu\"),\n",
        "            Dense(8, activation=\"relu\")\n",
        "        ])\n",
        "        self.decoder = Sequential([\n",
        "            Dense(16, activation=\"relu\", input_shape=(8,)),\n",
        "            Dense(32, activation=\"relu\"),\n",
        "            Dense(64, activation=\"relu\"),\n",
        "            Dense(128, activation=\"relu\"),\n",
        "            Dense(input_dim, activation=\"sigmoid\")\n",
        "        ])\n",
        "\n",
        "    def call(self, x):\n",
        "        encoded = self.encoder(x)\n",
        "        decoded = self.decoder(encoded)\n",
        "        return decoded\n",
        "\n",
        "input_dim = X_train_scaled.shape[1]\n",
        "autoencoder = Autoencoder(input_dim)\n",
        "autoencoder.compile(optimizer=tf.keras.optimizers.Adam(learning_rate=0.001), loss='mse')\n",
        "\n",
        "# Train the Autoencoder\n",
        "early_stopping = EarlyStopping(monitor='val_loss', patience=5, verbose=1)\n",
        "history = autoencoder.fit(\n",
        "    X_train_scaled, X_train_scaled,\n",
        "    epochs=100,\n",
        "    batch_size=32,\n",
        "    validation_split=0.2,\n",
        "    shuffle=True,\n",
        "    callbacks=[early_stopping]\n",
        ")"
      ]
    },
    {
      "cell_type": "code",
      "source": [
        "# Calculate Mean Squared Error (MSE) for reconstruction\n",
        "reconstructed_train = autoencoder.predict(X_train_scaled)\n",
        "mse_train = np.mean(np.square(X_train_scaled - reconstructed_train), axis=1)\n",
        "\n",
        "# Determine the threshold for anomaly detection\n",
        "threshold = np.mean(mse_train) + 3 * np.std(mse_train)\n",
        "\n",
        "# Evaluate the model\n",
        "reconstructed_test = autoencoder.predict(X_test_scaled)\n",
        "mse_test = np.mean(np.square(X_test_scaled - reconstructed_test), axis=1)\n",
        "anomalies = mse_test > threshold\n",
        "\n",
        "# Print evaluation results\n",
        "print(f\"Threshold: {threshold}\")\n",
        "print(f\"Test MSE Mean: {np.mean(mse_test)}, Test MSE Std: {np.std(mse_test)}\")\n",
        "print(f\"Number of anomalies in test set: {np.sum(anomalies)}\")\n",
        "\n",
        "# Plot the training and validation loss\n",
        "import matplotlib.pyplot as plt\n",
        "\n",
        "plt.plot(history.history['loss'], label='Training Loss')\n",
        "plt.plot(history.history['val_loss'], label='Validation Loss')\n",
        "plt.xlabel('Epoch')\n",
        "plt.ylabel('Loss')\n",
        "plt.legend()\n",
        "plt.show()\n"
      ],
      "metadata": {
        "colab": {
          "base_uri": "https://localhost:8080/",
          "height": 536
        },
        "id": "xFegvR0IQogs",
        "outputId": "8a1ebb82-6d17-4955-cd5e-f59c15856107"
      },
      "execution_count": 4,
      "outputs": [
        {
          "output_type": "stream",
          "name": "stdout",
          "text": [
            "2162/2162 [==============================] - 5s 2ms/step\n",
            "721/721 [==============================] - 1s 2ms/step\n",
            "Threshold: 0.002720581841115642\n",
            "Test MSE Mean: 0.00020059450586665077, Test MSE Std: 0.0010207276349630061\n",
            "Number of anomalies in test set: 223\n"
          ]
        },
        {
          "output_type": "display_data",
          "data": {
            "text/plain": [
              "<Figure size 640x480 with 1 Axes>"
            ],
            "image/png": "[encoded data removed]"
          },
          "metadata": {}
        }
      ]
    },
    {
      "cell_type": "code",
      "source": [
        "!pip install modelbit"
      ],
      "metadata": {
        "colab": {
          "base_uri": "https://localhost:8080/"
        },
        "id": "ED55oGEga1WW",
        "outputId": "bcb2bcd5-21a8-4a96-ad36-1c29e8763ef1"
      },
      "execution_count": 5,
      "outputs": [
        {
          "output_type": "stream",
          "name": "stdout",
          "text": [
            "Requirement already satisfied: modelbit in /usr/local/lib/python3.10/dist-packages (0.37.14)\n",
            "Requirement already satisfied: pycryptodomex in /usr/local/lib/python3.10/dist-packages (from modelbit) (3.20.0)\n",
            "Requirement already satisfied: pandas in /usr/local/lib/python3.10/dist-packages (from modelbit) (2.0.3)\n",
            "Requirement already satisfied: tqdm in /usr/local/lib/python3.10/dist-packages (from modelbit) (4.66.4)\n",
            "Requirement already satisfied: requests in /usr/local/lib/python3.10/dist-packages (from modelbit) (2.31.0)\n",
            "Requirement already satisfied: types-requests in /usr/local/lib/python3.10/dist-packages (from modelbit) (2.31.0.6)\n",
            "Requirement already satisfied: pyyaml in /usr/local/lib/python3.10/dist-packages (from modelbit) (6.0.1)\n",
            "Requirement already satisfied: types-PyYAML in /usr/local/lib/python3.10/dist-packages (from modelbit) (6.0.12.20240311)\n",
            "Requirement already satisfied: jinja2 in /usr/local/lib/python3.10/dist-packages (from modelbit) (3.1.4)\n",
            "Requirement already satisfied: types-pkg-resources in /usr/local/lib/python3.10/dist-packages (from modelbit) (0.1.3)\n",
            "Requirement already satisfied: zstandard in /usr/local/lib/python3.10/dist-packages (from modelbit) (0.22.0)\n",
            "Requirement already satisfied: appdirs in /usr/local/lib/python3.10/dist-packages (from modelbit) (1.4.4)\n",
            "Requirement already satisfied: texttable in /usr/local/lib/python3.10/dist-packages (from modelbit) (1.7.0)\n",
            "Requirement already satisfied: build in /usr/local/lib/python3.10/dist-packages (from modelbit) (0.10.0)\n",
            "Requirement already satisfied: pkginfo in /usr/local/lib/python3.10/dist-packages (from modelbit) (1.11.1)\n",
            "Requirement already satisfied: boto3>=1.23.0 in /usr/local/lib/python3.10/dist-packages (from modelbit) (1.34.129)\n",
            "Requirement already satisfied: urllib3<2,>=1.21.1 in /usr/local/lib/python3.10/dist-packages (from modelbit) (1.26.19)\n",
            "Requirement already satisfied: numpy<2 in /usr/local/lib/python3.10/dist-packages (from modelbit) (1.25.2)\n",
            "Requirement already satisfied: importlib-metadata in /usr/local/lib/python3.10/dist-packages (from modelbit) (7.1.0)\n",
            "Requirement already satisfied: botocore<1.35.0,>=1.34.129 in /usr/local/lib/python3.10/dist-packages (from boto3>=1.23.0->modelbit) (1.34.129)\n",
            "Requirement already satisfied: jmespath<2.0.0,>=0.7.1 in /usr/local/lib/python3.10/dist-packages (from boto3>=1.23.0->modelbit) (1.0.1)\n",
            "Requirement already satisfied: s3transfer<0.11.0,>=0.10.0 in /usr/local/lib/python3.10/dist-packages (from boto3>=1.23.0->modelbit) (0.10.1)\n",
            "Requirement already satisfied: packaging>=19.0 in /usr/local/lib/python3.10/dist-packages (from build->modelbit) (24.1)\n",
            "Requirement already satisfied: pyproject_hooks in /usr/local/lib/python3.10/dist-packages (from build->modelbit) (1.1.0)\n",
            "Requirement already satisfied: tomli>=1.1.0 in /usr/local/lib/python3.10/dist-packages (from build->modelbit) (2.0.1)\n",
            "Requirement already satisfied: zipp>=0.5 in /usr/local/lib/python3.10/dist-packages (from importlib-metadata->modelbit) (3.19.2)\n",
            "Requirement already satisfied: MarkupSafe>=2.0 in /usr/local/lib/python3.10/dist-packages (from jinja2->modelbit) (2.1.5)\n",
            "Requirement already satisfied: python-dateutil>=2.8.2 in /usr/local/lib/python3.10/dist-packages (from pandas->modelbit) (2.8.2)\n",
            "Requirement already satisfied: pytz>=2020.1 in /usr/local/lib/python3.10/dist-packages (from pandas->modelbit) (2023.4)\n",
            "Requirement already satisfied: tzdata>=2022.1 in /usr/local/lib/python3.10/dist-packages (from pandas->modelbit) (2024.1)\n",
            "Requirement already satisfied: charset-normalizer<4,>=2 in /usr/local/lib/python3.10/dist-packages (from requests->modelbit) (3.3.2)\n",
            "Requirement already satisfied: idna<4,>=2.5 in /usr/local/lib/python3.10/dist-packages (from requests->modelbit) (3.7)\n",
            "Requirement already satisfied: certifi>=2017.4.17 in /usr/local/lib/python3.10/dist-packages (from requests->modelbit) (2024.6.2)\n",
            "Requirement already satisfied: types-urllib3 in /usr/local/lib/python3.10/dist-packages (from types-requests->modelbit) (1.26.25.14)\n",
            "Requirement already satisfied: six>=1.5 in /usr/local/lib/python3.10/dist-packages (from python-dateutil>=2.8.2->pandas->modelbit) (1.16.0)\n"
          ]
        }
      ]
    },
    {
      "cell_type": "code",
      "source": [
        "import numpy as np\n",
        "import tensorflow as tf\n",
        "import joblib\n",
        "import modelbit as mb\n",
        "\n",
        "# Load the trained autoencoder model and scaler once\n",
        "model = tf.keras.models.load_model('autoencoder_model.keras')\n",
        "scaler = joblib.load('scaler.pkl')\n",
        "\n",
        "# Define the anomaly detection threshold\n",
        "threshold = 0.0056069746475677735  # Use the threshold calculated during training\n",
        "\n",
        "def predict_anomaly(data: dict):\n",
        "    try:\n",
        "        features = np.array(data['features'])\n",
        "\n",
        "        # Ensure the features are in the correct shape (1, number_of_features)\n",
        "        features_scaled = scaler.transform([features])\n",
        "\n",
        "        # Get the reconstructed output from the autoencoder\n",
        "        reconstructed = model.predict(features_scaled)\n",
        "\n",
        "        # Calculate the reconstruction error (Mean Squared Error)\n",
        "        mse = np.mean(np.square(features_scaled - reconstructed))\n",
        "\n",
        "        # Determine if the data is anomalous\n",
        "        is_anomalous = mse > threshold\n",
        "\n",
        "        return {\n",
        "            'mse': mse,\n",
        "            'is_anomalous': is_anomalous\n",
        "        }\n",
        "\n",
        "    except Exception as e:\n",
        "        return {'error': str(e)}"
      ],
      "metadata": {
        "colab": {
          "base_uri": "https://localhost:8080/",
          "height": 141
        },
        "id": "4Sw_YCPNm8AR",
        "outputId": "b9e429c1-074d-4d0e-ebb6-b98d5fbdad4b"
      },
      "execution_count": 14,
      "outputs": [
        {
          "output_type": "stream",
          "name": "stdout",
          "text": [
            "Warning: failed parsing function: <function Autoencoder.__init__ at 0x7d43f34af760> maximum recursion depth exceeded while calling a Python object\n",
            "Warning: failed superclasses for Autoencoder: maximum recursion depth exceeded while calling a Python object\n"
          ]
        },
        {
          "output_type": "display_data",
          "data": {
            "text/plain": [
              "<IPython.core.display.HTML object>"
            ],
            "text/html": [
              "<div style=\"margin: 0; padding: 5px; line-height: 1.75; font-size: 14px; vertical-align: baseline; list-style: none; font-family: Roboto, Arial, sans-serif; background: none;\">\n",
              "  <span style=\"margin: 0; padding: 0; line-height: 1.75; font-size: 14px; vertical-align: baseline; list-style: none; font-family: Roboto, Arial, sans-serif; background: none; color: #E2548A; font-weight: bold;\">Error:</span>\n",
              "  maximum recursion depth exceeded while calling a Python object\n",
              "</div>"
            ]
          },
          "metadata": {}
        },
        {
          "output_type": "execute_result",
          "data": {
            "text/plain": [
              "<div style=\"margin: 0; padding: 5px; line-height: 1.75; font-size: 14px; vertical-align: baseline; list-style: none; font-family: Roboto, Arial, sans-serif; background: none;\">\n",
              "  Deployment <span style=\"margin: 0; padding: 3px; line-height: 1.75; font-size: 13px; vertical-align: baseline; list-style: none; font-family: monospace; background: none; font-weight: 400; background-color: rgba(209, 213, 219, 0.2);\">predict_anomaly</span>\n",
              "</div>"
            ],
            "text/html": [
              "<div style=\"margin: 0; padding: 5px; line-height: 1.75; font-size: 14px; vertical-align: baseline; list-style: none; font-family: Roboto, Arial, sans-serif; background: none;\">\n",
              "  Deployment <span style=\"margin: 0; padding: 3px; line-height: 1.75; font-size: 13px; vertical-align: baseline; list-style: none; font-family: monospace; background: none; font-weight: 400; background-color: rgba(209, 213, 219, 0.2);\">predict_anomaly</span>\n",
              "</div>\n"
            ]
          },
          "metadata": {},
          "execution_count": 14
        }
      ]
    },
    {
      "cell_type": "code",
      "source": [],
      "metadata": {
        "id": "SB1_Pz1xnEaN"
      },
      "execution_count": null,
      "outputs": []
    }
  ]
}